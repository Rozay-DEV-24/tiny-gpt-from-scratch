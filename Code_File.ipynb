{
  "nbformat": 4,
  "nbformat_minor": 0,
  "metadata": {
    "colab": {
      "provenance": [],
      "gpuType": "T4"
    },
    "kernelspec": {
      "name": "python3",
      "display_name": "Python 3"
    },
    "language_info": {
      "name": "python"
    },
    "accelerator": "GPU"
  },
  "cells": [
    {
      "cell_type": "code",
      "execution_count": null,
      "metadata": {
        "id": "8WrbdbSTFdGe"
      },
      "outputs": [],
      "source": [
        "import tensorflow as tf\n",
        "from tensorflow.keras.layers import Layer, Embedding, Dense, LayerNormalization, Dropout\n",
        "from tensorflow.keras import Model"
      ]
    },
    {
      "cell_type": "markdown",
      "source": [
        "## Multihead Self Attention Layer"
      ],
      "metadata": {
        "id": "LNxKoK-vbJTu"
      }
    },
    {
      "cell_type": "code",
      "source": [
        "class MultiHeadSelfAttention(Layer):\n",
        "    def __init__(self, embed_dim, num_heads):\n",
        "        super().__init__()\n",
        "        assert embed_dim % num_heads == 0, \"embed_dim must be divisible by num_heads\"\n",
        "        self.embed_dim = embed_dim\n",
        "        self.num_heads = num_heads\n",
        "        self.head_dim = embed_dim // num_heads\n",
        "\n",
        "        # projections\n",
        "        self.wq = Dense(embed_dim, use_bias=False)\n",
        "        self.wk = Dense(embed_dim, use_bias=False)\n",
        "        self.wv = Dense(embed_dim, use_bias=False)\n",
        "        self.out = Dense(embed_dim, use_bias=False)\n",
        "\n",
        "    def split_heads(self, x):\n",
        "        # [B, T, E] -> [B, H, T, D]\n",
        "        B = tf.shape(x)[0]\n",
        "        T = tf.shape(x)[1]\n",
        "        x = tf.reshape(x, [B, T, self.num_heads, self.head_dim])\n",
        "        return tf.transpose(x, [0, 2, 1, 3])\n",
        "\n",
        "    def combine_heads(self, x):\n",
        "        # [B, H, T, D] -> [B, T, E]\n",
        "        B = tf.shape(x)[0]\n",
        "        T = tf.shape(x)[2]\n",
        "        x = tf.transpose(x, [0, 2, 1, 3])\n",
        "        return tf.reshape(x, [B, T, self.embed_dim])\n",
        "\n",
        "    def call(self, x, mask=None, training=False):\n",
        "        q = self.split_heads(self.wq(x))\n",
        "        k = self.split_heads(self.wk(x))\n",
        "        v = self.split_heads(self.wv(x))\n",
        "\n",
        "        # scaled dot-product attention: [B,H,T,T]\n",
        "        attn_logits = tf.matmul(q, k, transpose_b=True)\n",
        "        attn_logits = attn_logits * (self.head_dim ** -0.5)\n",
        "\n",
        "        if mask is not None:\n",
        "            # mask: 1 for masked positions, 0 otherwise; broadcast to [B,H,T,T]\n",
        "            attn_logits = attn_logits - 1e9 * tf.cast(mask, attn_logits.dtype)\n",
        "\n",
        "        attn_weights = tf.nn.softmax(attn_logits, axis=-1)\n",
        "        context = tf.matmul(attn_weights, v)\n",
        "        context = self.combine_heads(context)\n",
        "        return self.out(context)"
      ],
      "metadata": {
        "id": "f0i7b_F7AJBs"
      },
      "execution_count": null,
      "outputs": []
    },
    {
      "cell_type": "markdown",
      "source": [
        "## Feed Forward Network"
      ],
      "metadata": {
        "id": "CeETYtHTbOY3"
      }
    },
    {
      "cell_type": "code",
      "source": [
        "class FeedForwardNetwork(Layer):\n",
        "    def __init__(self, embed_dim, dff):\n",
        "        super().__init__()\n",
        "        self.dense1 = Dense(dff, activation=tf.nn.gelu)\n",
        "        self.dense2 = Dense(embed_dim)\n",
        "\n",
        "    def call(self, x, training=False):\n",
        "        return self.dense2(self.dense1(x))"
      ],
      "metadata": {
        "id": "Mq-IX7S9Wqmu"
      },
      "execution_count": null,
      "outputs": []
    },
    {
      "cell_type": "markdown",
      "source": [
        "## Transformer Block"
      ],
      "metadata": {
        "id": "OyW5RuUBbR9e"
      }
    },
    {
      "cell_type": "code",
      "source": [
        "class TransformerBlock(Layer):\n",
        "    def __init__(self, embed_dim, num_heads, dff, dropout_rate=0.1):\n",
        "        super().__init__()\n",
        "        self.mha = MultiHeadSelfAttention(embed_dim, num_heads)\n",
        "        self.ffn = FeedForwardNetwork(embed_dim, dff)\n",
        "        # pre-norm (stabler)\n",
        "        self.norm1 = LayerNormalization(epsilon=1e-5)\n",
        "        self.norm2 = LayerNormalization(epsilon=1e-5)\n",
        "        self.drop1 = Dropout(dropout_rate)\n",
        "        self.drop2 = Dropout(dropout_rate)\n",
        "\n",
        "    def call(self, x, mask=None, training=False):\n",
        "        h = x + self.drop1(self.mha(self.norm1(x), mask=mask, training=training), training=training)\n",
        "        h = h + self.drop2(self.ffn(self.norm2(h), training=training), training=training)\n",
        "        return h"
      ],
      "metadata": {
        "id": "vv-mvllyZfJ0"
      },
      "execution_count": null,
      "outputs": []
    },
    {
      "cell_type": "markdown",
      "source": [
        "## GPT Architecture\n"
      ],
      "metadata": {
        "id": "4hfd8kpbbVSL"
      }
    },
    {
      "cell_type": "code",
      "source": [
        "class RZY_GPT(Model):\n",
        "    def __init__(self, vocab_size, max_length, embed_dim=768, num_heads=12, dff=3072, num_layers=12, dropout_rate=0.1):\n",
        "        super().__init__()\n",
        "        self.vocab_size = vocab_size\n",
        "        self.max_length = max_length\n",
        "\n",
        "        self.token_emb = Embedding(vocab_size, embed_dim)\n",
        "        self.pos_emb = Embedding(max_length, embed_dim)\n",
        "\n",
        "        self.blocks = [TransformerBlock(embed_dim, num_heads, dff, dropout_rate) for _ in range(num_layers)]\n",
        "        self.norm = LayerNormalization(epsilon=1e-5)\n",
        "        self.lm_head = Dense(vocab_size, use_bias=False)\n",
        "\n",
        "    def causal_mask(self, seq_len):\n",
        "        # [T,T] lower-tri allowed -> invert to 1 where masked\n",
        "        m = 1 - tf.linalg.band_part(tf.ones([seq_len, seq_len], dtype=tf.int32), -1, 0)\n",
        "        # [1,1,T,T] for broadcasting to [B,H,T,T]\n",
        "        return m[tf.newaxis, tf.newaxis, :, :]\n",
        "\n",
        "    def call(self, x, training=False):\n",
        "        # x: [B, T] int32\n",
        "        B = tf.shape(x)[0]\n",
        "        T = tf.shape(x)[1]\n",
        "\n",
        "        tok = self.token_emb(x)                    # [B, T, E]\n",
        "        pos = self.pos_emb(tf.range(T))            # [T, E]\n",
        "        pos = tf.broadcast_to(pos, [B, T, tf.shape(tok)[-1]])\n",
        "        h = tok + pos\n",
        "\n",
        "        mask = self.causal_mask(T)                 # [1,1,T,T]\n",
        "        for blk in self.blocks:\n",
        "            h = blk(h, mask=mask, training=training)\n",
        "\n",
        "        h = self.norm(h)\n",
        "        logits = self.lm_head(h)                   # [B, T, V]\n",
        "        return logits"
      ],
      "metadata": {
        "id": "YQIPkdVEbZXr"
      },
      "execution_count": null,
      "outputs": []
    },
    {
      "cell_type": "code",
      "source": [
        "VOCAB_SIZE = 50257\n",
        "MAX_LENGTH = 1024\n",
        "\n",
        "inputs = tf.keras.Input(shape=(MAX_LENGTH,), dtype=tf.int32)\n",
        "logits = RZY_GPT(vocab_size=VOCAB_SIZE, max_length=MAX_LENGTH)(inputs)\n",
        "model = tf.keras.Model(inputs, logits)\n",
        "model.summary()"
      ],
      "metadata": {
        "colab": {
          "base_uri": "https://localhost:8080/",
          "height": 204
        },
        "id": "1YF0Bzc8lxJL",
        "outputId": "354a1a34-a394-452e-e0e0-6803904dcba9"
      },
      "execution_count": null,
      "outputs": [
        {
          "output_type": "display_data",
          "data": {
            "text/plain": [
              "\u001b[1mModel: \"functional\"\u001b[0m\n"
            ],
            "text/html": [
              "<pre style=\"white-space:pre;overflow-x:auto;line-height:normal;font-family:Menlo,'DejaVu Sans Mono',consolas,'Courier New',monospace\"><span style=\"font-weight: bold\">Model: \"functional\"</span>\n",
              "</pre>\n"
            ]
          },
          "metadata": {}
        },
        {
          "output_type": "display_data",
          "data": {
            "text/plain": [
              "┏━━━━━━━━━━━━━━━━━━━━━━━━━━━━━━━━━┳━━━━━━━━━━━━━━━━━━━━━━━━┳━━━━━━━━━━━━━━━┓\n",
              "┃\u001b[1m \u001b[0m\u001b[1mLayer (type)                   \u001b[0m\u001b[1m \u001b[0m┃\u001b[1m \u001b[0m\u001b[1mOutput Shape          \u001b[0m\u001b[1m \u001b[0m┃\u001b[1m \u001b[0m\u001b[1m      Param #\u001b[0m\u001b[1m \u001b[0m┃\n",
              "┡━━━━━━━━━━━━━━━━━━━━━━━━━━━━━━━━━╇━━━━━━━━━━━━━━━━━━━━━━━━╇━━━━━━━━━━━━━━━┩\n",
              "│ input_layer_1 (\u001b[38;5;33mInputLayer\u001b[0m)      │ (\u001b[38;5;45mNone\u001b[0m, \u001b[38;5;34m1024\u001b[0m)           │             \u001b[38;5;34m0\u001b[0m │\n",
              "├─────────────────────────────────┼────────────────────────┼───────────────┤\n",
              "│ rzy_gpt_1 (\u001b[38;5;33mRZY_GPT\u001b[0m)             │ (\u001b[38;5;45mNone\u001b[0m, \u001b[38;5;34m1024\u001b[0m, \u001b[38;5;34m50257\u001b[0m)    │   \u001b[38;5;34m163,000,320\u001b[0m │\n",
              "└─────────────────────────────────┴────────────────────────┴───────────────┘\n"
            ],
            "text/html": [
              "<pre style=\"white-space:pre;overflow-x:auto;line-height:normal;font-family:Menlo,'DejaVu Sans Mono',consolas,'Courier New',monospace\">┏━━━━━━━━━━━━━━━━━━━━━━━━━━━━━━━━━┳━━━━━━━━━━━━━━━━━━━━━━━━┳━━━━━━━━━━━━━━━┓\n",
              "┃<span style=\"font-weight: bold\"> Layer (type)                    </span>┃<span style=\"font-weight: bold\"> Output Shape           </span>┃<span style=\"font-weight: bold\">       Param # </span>┃\n",
              "┡━━━━━━━━━━━━━━━━━━━━━━━━━━━━━━━━━╇━━━━━━━━━━━━━━━━━━━━━━━━╇━━━━━━━━━━━━━━━┩\n",
              "│ input_layer_1 (<span style=\"color: #0087ff; text-decoration-color: #0087ff\">InputLayer</span>)      │ (<span style=\"color: #00d7ff; text-decoration-color: #00d7ff\">None</span>, <span style=\"color: #00af00; text-decoration-color: #00af00\">1024</span>)           │             <span style=\"color: #00af00; text-decoration-color: #00af00\">0</span> │\n",
              "├─────────────────────────────────┼────────────────────────┼───────────────┤\n",
              "│ rzy_gpt_1 (<span style=\"color: #0087ff; text-decoration-color: #0087ff\">RZY_GPT</span>)             │ (<span style=\"color: #00d7ff; text-decoration-color: #00d7ff\">None</span>, <span style=\"color: #00af00; text-decoration-color: #00af00\">1024</span>, <span style=\"color: #00af00; text-decoration-color: #00af00\">50257</span>)    │   <span style=\"color: #00af00; text-decoration-color: #00af00\">163,000,320</span> │\n",
              "└─────────────────────────────────┴────────────────────────┴───────────────┘\n",
              "</pre>\n"
            ]
          },
          "metadata": {}
        },
        {
          "output_type": "display_data",
          "data": {
            "text/plain": [
              "\u001b[1m Total params: \u001b[0m\u001b[38;5;34m163,000,320\u001b[0m (621.80 MB)\n"
            ],
            "text/html": [
              "<pre style=\"white-space:pre;overflow-x:auto;line-height:normal;font-family:Menlo,'DejaVu Sans Mono',consolas,'Courier New',monospace\"><span style=\"font-weight: bold\"> Total params: </span><span style=\"color: #00af00; text-decoration-color: #00af00\">163,000,320</span> (621.80 MB)\n",
              "</pre>\n"
            ]
          },
          "metadata": {}
        },
        {
          "output_type": "display_data",
          "data": {
            "text/plain": [
              "\u001b[1m Trainable params: \u001b[0m\u001b[38;5;34m163,000,320\u001b[0m (621.80 MB)\n"
            ],
            "text/html": [
              "<pre style=\"white-space:pre;overflow-x:auto;line-height:normal;font-family:Menlo,'DejaVu Sans Mono',consolas,'Courier New',monospace\"><span style=\"font-weight: bold\"> Trainable params: </span><span style=\"color: #00af00; text-decoration-color: #00af00\">163,000,320</span> (621.80 MB)\n",
              "</pre>\n"
            ]
          },
          "metadata": {}
        },
        {
          "output_type": "display_data",
          "data": {
            "text/plain": [
              "\u001b[1m Non-trainable params: \u001b[0m\u001b[38;5;34m0\u001b[0m (0.00 B)\n"
            ],
            "text/html": [
              "<pre style=\"white-space:pre;overflow-x:auto;line-height:normal;font-family:Menlo,'DejaVu Sans Mono',consolas,'Courier New',monospace\"><span style=\"font-weight: bold\"> Non-trainable params: </span><span style=\"color: #00af00; text-decoration-color: #00af00\">0</span> (0.00 B)\n",
              "</pre>\n"
            ]
          },
          "metadata": {}
        }
      ]
    }
  ]
}